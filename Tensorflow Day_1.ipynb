{
 "cells": [
  {
   "cell_type": "markdown",
   "id": "08ccccf5",
   "metadata": {},
   "source": [
    "# Import the tensorflow lib"
   ]
  },
  {
   "cell_type": "code",
   "execution_count": 6,
   "id": "763744af",
   "metadata": {},
   "outputs": [],
   "source": [
    "import tensorflow as tf"
   ]
  },
  {
   "cell_type": "code",
   "execution_count": 7,
   "id": "918d6921",
   "metadata": {},
   "outputs": [
    {
     "name": "stdout",
     "output_type": "stream",
     "text": [
      "tf.Tensor([2 4 6 9], shape=(4,), dtype=int32)\n",
      "tf.Tensor([5 2 0 2], shape=(4,), dtype=int32)\n"
     ]
    }
   ],
   "source": [
    "#initialize constants\n",
    "\n",
    "a=tf.constant([2,4,6,9])\n",
    "b=tf.constant([5,2,0,2])\n",
    "\n",
    "print(a)\n",
    "print(b)"
   ]
  },
  {
   "cell_type": "code",
   "execution_count": 8,
   "id": "bf9be2c2",
   "metadata": {},
   "outputs": [
    {
     "name": "stdout",
     "output_type": "stream",
     "text": [
      "tf.Tensor([2 3 4 5 6], shape=(5,), dtype=int32)\n",
      "tf.Tensor([ 1.  4. 11. 20.], shape=(4,), dtype=float64)\n"
     ]
    }
   ],
   "source": [
    "#ADD OPERATION\n",
    "\n",
    "x = [1, 2, 3, 4, 5]\n",
    "y = 1\n",
    "p=tf.add(x, y)\n",
    "print(p)\n",
    "\n",
    "x = [4,16,44,80]\n",
    "y = 4\n",
    "p=tf.divide(x, y)\n",
    "\n",
    "print(p)"
   ]
  },
  {
   "cell_type": "code",
   "execution_count": 9,
   "id": "7655dbf4",
   "metadata": {},
   "outputs": [
    {
     "name": "stdout",
     "output_type": "stream",
     "text": [
      "tf.Tensor(60, shape=(), dtype=int32)\n"
     ]
    }
   ],
   "source": [
    "print(tf.add(3,57))"
   ]
  },
  {
   "cell_type": "code",
   "execution_count": 11,
   "id": "c9d60e86",
   "metadata": {},
   "outputs": [
    {
     "name": "stdout",
     "output_type": "stream",
     "text": [
      "tf.Tensor([ 3.3 43.   6.5], shape=(3,), dtype=float32)\n"
     ]
    }
   ],
   "source": [
    "n=tf.constant([3.3,43,6.5])\n",
    "print(n)"
   ]
  },
  {
   "cell_type": "code",
   "execution_count": 12,
   "id": "a5b35c03",
   "metadata": {},
   "outputs": [
    {
     "data": {
      "text/plain": [
       "<tf.Tensor: shape=(3,), dtype=bool, numpy=array([False,  True,  True])>"
      ]
     },
     "execution_count": 12,
     "metadata": {},
     "output_type": "execute_result"
    }
   ],
   "source": [
    "#GREATER OPERATION\n",
    "\n",
    "x = tf.constant([5, 4, 6])\n",
    "y = tf.constant([5, 2, 5])\n",
    "tf.math.greater(x, y) "
   ]
  },
  {
   "cell_type": "code",
   "execution_count": 13,
   "id": "0a7a0418",
   "metadata": {},
   "outputs": [
    {
     "name": "stdout",
     "output_type": "stream",
     "text": [
      "tf.Tensor(\n",
      "[[1. 2.]\n",
      " [3. 4.]\n",
      " [5. 6.]], shape=(3, 2), dtype=float16)\n"
     ]
    }
   ],
   "source": [
    "Z = tf.constant([[1, 2],[3, 4], [5, 6]], dtype=tf.float16)\n",
    "print(Z)"
   ]
  },
  {
   "cell_type": "markdown",
   "id": "0a3e9f8d",
   "metadata": {},
   "source": [
    "# Import the numpy lib to perform numperial operations in python"
   ]
  },
  {
   "cell_type": "code",
   "execution_count": 14,
   "id": "0a43e494",
   "metadata": {},
   "outputs": [],
   "source": [
    "import numpy as np"
   ]
  },
  {
   "cell_type": "code",
   "execution_count": 15,
   "id": "412e2a8a",
   "metadata": {},
   "outputs": [
    {
     "data": {
      "text/plain": [
       "array([[1., 2.],\n",
       "       [3., 4.],\n",
       "       [5., 6.]], dtype=float16)"
      ]
     },
     "execution_count": 15,
     "metadata": {},
     "output_type": "execute_result"
    }
   ],
   "source": [
    "np.array(Z)"
   ]
  },
  {
   "cell_type": "code",
   "execution_count": 16,
   "id": "2b78b8e1",
   "metadata": {},
   "outputs": [
    {
     "data": {
      "text/plain": [
       "array([[1., 2.],\n",
       "       [3., 4.],\n",
       "       [5., 6.]], dtype=float16)"
      ]
     },
     "execution_count": 16,
     "metadata": {},
     "output_type": "execute_result"
    }
   ],
   "source": [
    "Z.numpy()"
   ]
  },
  {
   "cell_type": "code",
   "execution_count": 17,
   "id": "1a4f4e26",
   "metadata": {},
   "outputs": [
    {
     "name": "stdout",
     "output_type": "stream",
     "text": [
      "tf.Tensor(\n",
      "[[12  9]\n",
      " [ 4 11]], shape=(2, 2), dtype=int32) \n",
      "\n",
      "tf.Tensor(\n",
      "[[35 14]\n",
      " [ 3 18]], shape=(2, 2), dtype=int32) \n",
      "\n"
     ]
    }
   ],
   "source": [
    "a = tf.constant([[7, 2],\n",
    "                 [3, 9]])\n",
    "b = tf.constant([[5, 7],\n",
    "                 [1, 2]])\n",
    "\n",
    "print(tf.add(a, b), \"\\n\")\n",
    "print(tf.multiply(a, b), \"\\n\")\n"
   ]
  },
  {
   "cell_type": "code",
   "execution_count": 21,
   "id": "9fcbc8d7",
   "metadata": {},
   "outputs": [],
   "source": [
    " c = tf.zeros([7,8,2,6])"
   ]
  },
  {
   "cell_type": "code",
   "execution_count": 22,
   "id": "ecc8dcb4",
   "metadata": {},
   "outputs": [
    {
     "name": "stdout",
     "output_type": "stream",
     "text": [
      "Type of every element: <dtype: 'float32'>\n",
      "Number of axes: 4\n",
      "Shape of tensor: (7, 8, 2, 6)\n",
      "Elements along axis 0 of tensor: 7\n",
      "Elements along the last axis of tensor: 6\n",
      "Total number of elements:  672\n"
     ]
    }
   ],
   "source": [
    "print(\"Type of every element:\", c.dtype)\n",
    "print(\"Number of axes:\", c.ndim)\n",
    "print(\"Shape of tensor:\", c.shape)\n",
    "print(\"Elements along axis 0 of tensor:\", c.shape[0])\n",
    "print(\"Elements along the last axis of tensor:\", c.shape[-1])\n",
    "print(\"Total number of elements: \", tf.size(c).numpy())"
   ]
  },
  {
   "cell_type": "markdown",
   "id": "5edfd2f9",
   "metadata": {},
   "source": [
    "# Tensor 2 types\n",
    "\n",
    " Sparse and Ragged Tensor"
   ]
  },
  {
   "cell_type": "code",
   "execution_count": 23,
   "id": "90f53522",
   "metadata": {},
   "outputs": [
    {
     "data": {
      "text/plain": [
       "<tf.Tensor: shape=(), dtype=int32, numpy=4>"
      ]
     },
     "execution_count": 23,
     "metadata": {},
     "output_type": "execute_result"
    }
   ],
   "source": [
    "tf.rank(c)"
   ]
  },
  {
   "cell_type": "code",
   "execution_count": 24,
   "id": "236af9e3",
   "metadata": {},
   "outputs": [
    {
     "data": {
      "text/plain": [
       "<tf.Tensor: shape=(4,), dtype=int32, numpy=array([7, 8, 2, 6])>"
      ]
     },
     "execution_count": 24,
     "metadata": {},
     "output_type": "execute_result"
    }
   ],
   "source": [
    "tf.shape(c)"
   ]
  },
  {
   "cell_type": "markdown",
   "id": "964a4e07",
   "metadata": {},
   "source": [
    "# Indexing in Tensor"
   ]
  },
  {
   "cell_type": "code",
   "execution_count": 25,
   "id": "92252465",
   "metadata": {},
   "outputs": [
    {
     "name": "stdout",
     "output_type": "stream",
     "text": [
      "[345  24  22   6  14   8  66  61]\n"
     ]
    }
   ],
   "source": [
    "sd = tf.constant([345,24,22,6,14,8,66,61])\n",
    "print(sd.numpy())"
   ]
  },
  {
   "cell_type": "code",
   "execution_count": 26,
   "id": "5d0f8a9e",
   "metadata": {},
   "outputs": [
    {
     "name": "stdout",
     "output_type": "stream",
     "text": [
      "First: 345\n",
      "Last: 61\n"
     ]
    }
   ],
   "source": [
    "print(\"First:\", sd[0].numpy())\n",
    "print(\"Last:\", sd[-1].numpy())"
   ]
  },
  {
   "cell_type": "code",
   "execution_count": 27,
   "id": "e1ddfb08",
   "metadata": {},
   "outputs": [
    {
     "name": "stdout",
     "output_type": "stream",
     "text": [
      "(3, 1)\n",
      "[3, 1]\n"
     ]
    }
   ],
   "source": [
    "x = tf.constant([[7], [2], [5]])\n",
    "print(x.shape)\n",
    "print(x.shape.as_list())\n"
   ]
  },
  {
   "cell_type": "code",
   "execution_count": 28,
   "id": "8aa6380e",
   "metadata": {},
   "outputs": [
    {
     "name": "stdout",
     "output_type": "stream",
     "text": [
      "(1, 3)\n"
     ]
    }
   ],
   "source": [
    "reshaped = tf.reshape(x, [1, 3])\n",
    "print(reshaped.shape)"
   ]
  },
  {
   "cell_type": "code",
   "execution_count": 31,
   "id": "f1f9baea",
   "metadata": {},
   "outputs": [
    {
     "ename": "RuntimeError",
     "evalue": "The Session graph is empty. Add operations to the graph before calling run().",
     "output_type": "error",
     "traceback": [
      "\u001b[1;31m---------------------------------------------------------------------------\u001b[0m",
      "\u001b[1;31mRuntimeError\u001b[0m                              Traceback (most recent call last)",
      "\u001b[1;32m~\\AppData\\Local\\Temp/ipykernel_2676/2369458790.py\u001b[0m in \u001b[0;36m<module>\u001b[1;34m\u001b[0m\n\u001b[0;32m      7\u001b[0m \u001b[1;32mwith\u001b[0m \u001b[0mtf\u001b[0m\u001b[1;33m.\u001b[0m\u001b[0mcompat\u001b[0m\u001b[1;33m.\u001b[0m\u001b[0mv1\u001b[0m\u001b[1;33m.\u001b[0m\u001b[0mSession\u001b[0m\u001b[1;33m(\u001b[0m\u001b[1;33m)\u001b[0m \u001b[1;32mas\u001b[0m \u001b[0msession\u001b[0m\u001b[1;33m:\u001b[0m\u001b[1;33m\u001b[0m\u001b[1;33m\u001b[0m\u001b[0m\n\u001b[0;32m      8\u001b[0m \u001b[1;33m\u001b[0m\u001b[0m\n\u001b[1;32m----> 9\u001b[1;33m         \u001b[0mOutput\u001b[0m \u001b[1;33m=\u001b[0m \u001b[0msession\u001b[0m\u001b[1;33m.\u001b[0m\u001b[0mrun\u001b[0m\u001b[1;33m(\u001b[0m\u001b[0mtfMultiply\u001b[0m\u001b[1;33m)\u001b[0m\u001b[1;33m\u001b[0m\u001b[1;33m\u001b[0m\u001b[0m\n\u001b[0m",
      "\u001b[1;32mC:\\ProgramData\\Anaconda3\\lib\\site-packages\\tensorflow\\python\\client\\session.py\u001b[0m in \u001b[0;36mrun\u001b[1;34m(self, fetches, feed_dict, options, run_metadata)\u001b[0m\n\u001b[0;32m    966\u001b[0m \u001b[1;33m\u001b[0m\u001b[0m\n\u001b[0;32m    967\u001b[0m     \u001b[1;32mtry\u001b[0m\u001b[1;33m:\u001b[0m\u001b[1;33m\u001b[0m\u001b[1;33m\u001b[0m\u001b[0m\n\u001b[1;32m--> 968\u001b[1;33m       result = self._run(None, fetches, feed_dict, options_ptr,\n\u001b[0m\u001b[0;32m    969\u001b[0m                          run_metadata_ptr)\n\u001b[0;32m    970\u001b[0m       \u001b[1;32mif\u001b[0m \u001b[0mrun_metadata\u001b[0m\u001b[1;33m:\u001b[0m\u001b[1;33m\u001b[0m\u001b[1;33m\u001b[0m\u001b[0m\n",
      "\u001b[1;32mC:\\ProgramData\\Anaconda3\\lib\\site-packages\\tensorflow\\python\\client\\session.py\u001b[0m in \u001b[0;36m_run\u001b[1;34m(self, handle, fetches, feed_dict, options, run_metadata)\u001b[0m\n\u001b[0;32m   1116\u001b[0m       \u001b[1;32mraise\u001b[0m \u001b[0mRuntimeError\u001b[0m\u001b[1;33m(\u001b[0m\u001b[1;34m'Attempted to use a closed Session.'\u001b[0m\u001b[1;33m)\u001b[0m\u001b[1;33m\u001b[0m\u001b[1;33m\u001b[0m\u001b[0m\n\u001b[0;32m   1117\u001b[0m     \u001b[1;32mif\u001b[0m \u001b[0mself\u001b[0m\u001b[1;33m.\u001b[0m\u001b[0mgraph\u001b[0m\u001b[1;33m.\u001b[0m\u001b[0mversion\u001b[0m \u001b[1;33m==\u001b[0m \u001b[1;36m0\u001b[0m\u001b[1;33m:\u001b[0m\u001b[1;33m\u001b[0m\u001b[1;33m\u001b[0m\u001b[0m\n\u001b[1;32m-> 1118\u001b[1;33m       raise RuntimeError('The Session graph is empty. Add operations to the '\n\u001b[0m\u001b[0;32m   1119\u001b[0m                          'graph before calling run().')\n\u001b[0;32m   1120\u001b[0m \u001b[1;33m\u001b[0m\u001b[0m\n",
      "\u001b[1;31mRuntimeError\u001b[0m: The Session graph is empty. Add operations to the graph before calling run()."
     ]
    }
   ],
   "source": [
    "matOne = tf.constant([[5,6,7],[1,2,3],[10,9,8]])\n",
    "\n",
    "matTwo = tf.constant([[1,2,3],[4,5,6],[7,8,9]])\n",
    "\n",
    "tfMultiply = tf.multiply(matOne,matTwo)\n",
    "\n",
    "with tf.compat.v1.Session() as session:\n",
    "\n",
    "\tOutput = session.run(tfMultiply)"
   ]
  },
  {
   "cell_type": "code",
   "execution_count": null,
   "id": "c9797991",
   "metadata": {},
   "outputs": [],
   "source": []
  },
  {
   "cell_type": "code",
   "execution_count": null,
   "id": "1aeb1014",
   "metadata": {},
   "outputs": [],
   "source": []
  }
 ],
 "metadata": {
  "kernelspec": {
   "display_name": "Python 3 (ipykernel)",
   "language": "python",
   "name": "python3"
  },
  "language_info": {
   "codemirror_mode": {
    "name": "ipython",
    "version": 3
   },
   "file_extension": ".py",
   "mimetype": "text/x-python",
   "name": "python",
   "nbconvert_exporter": "python",
   "pygments_lexer": "ipython3",
   "version": "3.9.7"
  }
 },
 "nbformat": 4,
 "nbformat_minor": 5
}
